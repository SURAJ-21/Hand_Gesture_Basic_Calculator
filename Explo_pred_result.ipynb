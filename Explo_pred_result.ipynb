{
 "cells": [
  {
   "cell_type": "code",
   "execution_count": 2,
   "id": "ae6ce7eb",
   "metadata": {},
   "outputs": [],
   "source": [
    "import cv2\n",
    "import numpy as np\n",
    "from keras.models import load_model\n",
    "from tensorflow.keras.utils import img_to_array\n",
    "label = ['0','1','+','-','*','/','Confirm','**','%','Clear','2','3','4','5','6','7','8','9']\n",
    "\n",
    "## Loading model using the loacation where the model is saved\n",
    "model = load_model('D:\\Desktop\\Gesture-controlled-opencv-calculator-main/explo_model.h5')\n",
    "\n",
    "\n",
    "\n",
    "def get_prediction(img):\n",
    "    for_pred = cv2.resize(img,(64,64))\n",
    "    x = img_to_array(for_pred)\n",
    "    x = x/255.0\n",
    "    x = x.reshape((1,) + x.shape)\n",
    "    pred = str(label[np.argmax(model.predict(x))])\n",
    "    return pred\n",
    "\n",
    "def get_result(first_number,operator,second_number):\n",
    "\ta = int(first_number)\n",
    "\tb = int(second_number)\n",
    "\tif operator == \"*\":\n",
    "\t\tres = a * b\n",
    "\telif operator == \"/\":\n",
    "\t\tres = a/b\n",
    "\telif operator == \"+\":\n",
    "\t\tres = a + b\n",
    "\telif operator == \"%\":\n",
    "\t\tres = a % b\n",
    "\telif operator == \"-\":\n",
    "\t\tres = a - b\n",
    "\telif operator == \"**\":\n",
    "\t\tres = a**b\n",
    "\telse:\n",
    "\t\tprint(\"Not a valid operator\")\n",
    "\treturn res\n"
   ]
  }
 ],
 "metadata": {
  "kernelspec": {
   "display_name": "Python 3 (ipykernel)",
   "language": "python",
   "name": "python3"
  },
  "language_info": {
   "codemirror_mode": {
    "name": "ipython",
    "version": 3
   },
   "file_extension": ".py",
   "mimetype": "text/x-python",
   "name": "python",
   "nbconvert_exporter": "python",
   "pygments_lexer": "ipython3",
   "version": "3.10.8"
  }
 },
 "nbformat": 4,
 "nbformat_minor": 5
}
